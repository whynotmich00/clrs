{
 "cells": [
  {
   "cell_type": "code",
   "execution_count": 4,
   "metadata": {},
   "outputs": [],
   "source": [
    "from clrs._src.processors import GATv2FullD2\n",
    "import haiku as hk\n",
    "import optax\n",
    "import jax\n",
    "import jax.numpy as jnp\n",
    "from jax.numpy import array\n",
    "import pickle"
   ]
  },
  {
   "cell_type": "markdown",
   "metadata": {},
   "source": [
    "# Load Data"
   ]
  },
  {
   "cell_type": "code",
   "execution_count": 5,
   "metadata": {},
   "outputs": [
    {
     "name": "stdout",
     "output_type": "stream",
     "text": [
      "grafo dati loaded succesfully\n"
     ]
    }
   ],
   "source": [
    "# Read dictionary pkl file\n",
    "with open('C:\\\\Users\\\\Lenovo\\\\OneDrive\\\\Documenti\\\\Università\\\\Ricerca\\\\NFL kaggle challenge 2024\\\\data\\\\grafo_dati.pkl', 'rb') as fp:\n",
    "    grafo_dati = pickle.load(fp)\n",
    "    print('grafo dati loaded succesfully')"
   ]
  },
  {
   "cell_type": "markdown",
   "metadata": {},
   "source": [
    "## Global variables for trainig"
   ]
  },
  {
   "cell_type": "code",
   "execution_count": 6,
   "metadata": {},
   "outputs": [],
   "source": [
    "indice = list(grafo_dati)\n",
    "num_epochs = 10\n",
    "batch_size = 128\n",
    "num_batches = len(indice)\n",
    "adj_mat = jnp.ones(shape=(batch_size, 23, 23))"
   ]
  },
  {
   "cell_type": "code",
   "execution_count": 12,
   "metadata": {},
   "outputs": [
    {
     "data": {
      "text/plain": [
       "(5,)"
      ]
     },
     "execution_count": 12,
     "metadata": {},
     "output_type": "execute_result"
    }
   ],
   "source": [
    "grafo_dati[indice[0]][\"graph_fts\"].shape"
   ]
  },
  {
   "cell_type": "code",
   "execution_count": 14,
   "metadata": {},
   "outputs": [],
   "source": [
    "#check dimensions\n",
    "for i in indice:\n",
    "    assert(grafo_dati[i][\"node_fts\"].shape == (23, 7))\n",
    "    assert(grafo_dati[i][\"edge_fts\"].shape == (23, 23))\n",
    "    assert(grafo_dati[i][\"graph_fts\"].shape == (5,))\n",
    "    "
   ]
  },
  {
   "cell_type": "code",
   "execution_count": 57,
   "metadata": {},
   "outputs": [],
   "source": [
    "# create empty dataset \n",
    "# dataset_node_fts = jnp.zeros(shape = (len(indice), 4, 23, 7))\n",
    "dataset_edge_fts = jnp.zeros(shape = (len(indice), 4, 23, 23, 1))\n",
    "dataset_graph_fts = jnp.zeros(shape = (len(indice), 4, 5))\n",
    "labels = jnp.zeros(shape=(len(indice), 1))"
   ]
  },
  {
   "cell_type": "code",
   "execution_count": 58,
   "metadata": {},
   "outputs": [],
   "source": [
    "# populate datasets\n",
    "\n",
    "for i, ind in enumerate(indice):\n",
    "    node_fts = grafo_dati[ind][\"node_fts\"]\n",
    "    fnode_fts = jnp.stack([node_fts,\n",
    "                     node_fts[::-1, :],\n",
    "                     node_fts[:, ::-1],\n",
    "                     node_fts[::-1, ::-1]], axis=0)\n",
    "    edge_fts = grafo_dati[ind][\"edge_fts\"]\n",
    "    fedge_fts = jnp.stack([edge_fts,\n",
    "\t\t\t\t\t\tedge_fts[::-1, :],\n",
    "\t\t\t\t\t\tedge_fts[:, ::-1],\n",
    "\t\t\t\t\t\tedge_fts[::-1, ::-1]], axis=0)\n",
    "\n",
    "    dataset_node_fts = dataset_node_fts.at[i].set(fnode_fts)\n",
    "    dataset_edge_fts = dataset_edge_fts.at[i].set(jnp.expand_dims(fedge_fts, axis=-1))\n",
    "    dataset_graph_fts = dataset_graph_fts.at[i].set(grafo_dati[ind][\"graph_fts\"]) # ripete l'array per tutte e quattro le dimensioni\n",
    "    labels = labels.at[i].set(grafo_dati[ind][\"label\"])\n"
   ]
  },
  {
   "cell_type": "code",
   "execution_count": 71,
   "metadata": {},
   "outputs": [
    {
     "name": "stdout",
     "output_type": "stream",
     "text": [
      "(3444, 4, 23, 7)\n",
      "(3444, 4, 23, 23, 1)\n",
      "(3444, 4, 5)\n"
     ]
    }
   ],
   "source": [
    "print(dataset_node_fts.shape)\n",
    "print(dataset_edge_fts.shape)\n",
    "print(dataset_graph_fts.shape)"
   ]
  },
  {
   "cell_type": "code",
   "execution_count": 72,
   "metadata": {},
   "outputs": [],
   "source": [
    "labels = jnp.reshape(jax.nn.one_hot(labels, 2), (len(indice), 2))\n",
    "\n",
    "dataset_node_fts = jnp.transpose(dataset_node_fts, (1, 0, 2, 3))\n",
    "dataset_edge_fts = jnp.transpose(dataset_edge_fts, (1, 0, 2, 3, 4))\n",
    "dataset_graph_fts = jnp.transpose(dataset_graph_fts, (1, 0, 2))\n"
   ]
  },
  {
   "cell_type": "markdown",
   "metadata": {},
   "source": [
    "# Create GNN"
   ]
  },
  {
   "cell_type": "code",
   "execution_count": 67,
   "metadata": {},
   "outputs": [],
   "source": [
    "class myNet_d2(hk.Module):\n",
    "    def __init__(self, gatv2_out_size: int, gatv2_nb_heads: int, linear_out_size: int = 2):\n",
    "        super().__init__()\n",
    "        self.gatv2_1 = GATv2FullD2(out_size=gatv2_out_size, nb_heads=gatv2_nb_heads)\n",
    "        self.gatv2_2 = GATv2FullD2(out_size=gatv2_out_size, nb_heads=gatv2_nb_heads)\n",
    "        self.gatv2_3 = GATv2FullD2(out_size=gatv2_out_size, nb_heads=gatv2_nb_heads)\n",
    "        self.gatv2_4 = GATv2FullD2(out_size=gatv2_out_size, nb_heads=gatv2_nb_heads)\n",
    "        \n",
    "        self.linear = hk.Linear(output_size=linear_out_size)\n",
    "\n",
    "    def __call__(self, fnode_fts, fedge_fts, fgraph_fts, adj_mat, hidden):\n",
    "        gat_output = self.gatv2_1.d2_forward(fnode_fts, fedge_fts, fgraph_fts, adj_mat, hidden)\n",
    "        gat_output = array(gat_output)\n",
    "        hidden = jnp.mean(gat_output, axis=0)\n",
    "        \n",
    "        gat_output = self.gatv2_2.d2_forward(gat_output, fedge_fts, fgraph_fts, adj_mat, hidden)\n",
    "        gat_output = array(gat_output)\n",
    "        hidden = jnp.mean(gat_output, axis=0)\n",
    "        \n",
    "        gat_output = self.gatv2_3.d2_forward(gat_output, fedge_fts, fgraph_fts, adj_mat, hidden)\n",
    "        gat_output = array(gat_output)\n",
    "        hidden = jnp.mean(gat_output, axis=0)\n",
    "        \n",
    "        gat_output = self.gatv2_4.d2_forward(gat_output, fedge_fts, fgraph_fts, adj_mat, hidden)\n",
    "        \n",
    "        b, n, d = gat_output[0].shape\n",
    "        gat_output = jnp.mean(array(gat_output), axis=0)\n",
    "        flattened_output = jnp.reshape(gat_output, (b, n*d))  # Flat node features on last axis\n",
    "        scalar_output = self.linear(flattened_output)\n",
    "        return scalar_output\n",
    "\n",
    "def myNet_d2_fn(fnode_fts, fedge_fts, fgraph_fts, adj_mat, hidden):\n",
    "    model = myNet_d2(gatv2_out_size=8, gatv2_nb_heads=8)\n",
    "    return model(fnode_fts, fedge_fts, fgraph_fts, adj_mat, hidden)\n",
    "\n",
    "myNet_d2_init, myNet_d2_apply = hk.transform(myNet_d2_fn)\n",
    "\n",
    "rng = jax.random.PRNGKey(42)"
   ]
  },
  {
   "cell_type": "markdown",
   "metadata": {},
   "source": [
    "# Loss function"
   ]
  },
  {
   "cell_type": "code",
   "execution_count": 68,
   "metadata": {},
   "outputs": [],
   "source": [
    "def loss_fn(params, rng, node_fts, edge_fts, graph_fts, adj_mat, hidden, y):\n",
    "    logits = myNet_d2_apply(params, rng, node_fts, edge_fts, graph_fts, adj_mat, hidden)\n",
    "    loss = jnp.mean(optax.softmax_cross_entropy(logits, y))\n",
    "    return loss"
   ]
  },
  {
   "cell_type": "markdown",
   "metadata": {},
   "source": [
    "# Set up optimizer"
   ]
  },
  {
   "cell_type": "code",
   "execution_count": 69,
   "metadata": {},
   "outputs": [],
   "source": [
    "import optax\n",
    "\n",
    "learning_rate = 1e-4\n",
    "optimizer = optax.adam(learning_rate)"
   ]
  },
  {
   "cell_type": "markdown",
   "metadata": {},
   "source": [
    "# Initialize params and optimizer"
   ]
  },
  {
   "cell_type": "code",
   "execution_count": 75,
   "metadata": {},
   "outputs": [],
   "source": [
    "params = myNet_d2_init(rng, dataset_node_fts[:, :128], dataset_edge_fts[:, :128], dataset_graph_fts[:, :128], adj_mat, dataset_node_fts[0, :128])\n",
    "\n",
    "opt_state = optimizer.init(params)"
   ]
  },
  {
   "cell_type": "markdown",
   "metadata": {},
   "source": [
    "# Define train step"
   ]
  },
  {
   "cell_type": "code",
   "execution_count": 77,
   "metadata": {},
   "outputs": [],
   "source": [
    "@jax.jit\n",
    "def train_step(params, opt_state, rng, node_fts, edge_fts, graph_fts, adj_mat, hidden, y):\n",
    "    loss, grads = jax.value_and_grad(loss_fn)(params, rng, node_fts, edge_fts, graph_fts, adj_mat, hidden, y)\n",
    "    updates, opt_state = optimizer.update(grads, opt_state)\n",
    "    params = optax.apply_updates(params, updates)\n",
    "    return params, opt_state, loss"
   ]
  },
  {
   "cell_type": "code",
   "execution_count": 79,
   "metadata": {},
   "outputs": [],
   "source": [
    "train_step(params, opt_state, rng, dataset_node_fts[:, :128], dataset_edge_fts[:, :128], dataset_graph_fts[:, :128], adj_mat, dataset_node_fts[0, :128], labels[:128])"
   ]
  },
  {
   "cell_type": "markdown",
   "metadata": {},
   "source": [
    "# Train model"
   ]
  },
  {
   "cell_type": "code",
   "execution_count": null,
   "metadata": {},
   "outputs": [],
   "source": [
    "for epoch in range(num_epochs):\n",
    "    for batch_idx in range(num_batches):\n",
    "        node_fts_batch = dataset_node_fts[:, batch_idx * batch_size:(batch_idx + 1) * batch_size]\n",
    "        edge_fts_batch = dataset_edge_fts[:, batch_idx * batch_size:(batch_idx + 1) * batch_size]\n",
    "        graph_fts_batch = dataset_graph_fts[:, batch_idx * batch_size:(batch_idx + 1) * batch_size]\n",
    "        hidden_batch = dataset_node_fts[0, batch_idx * batch_size:(batch_idx + 1) * batch_size]\n",
    "\n",
    "        y_batch = labels[batch_idx * batch_size:(batch_idx + 1) * batch_size]\n",
    "        \n",
    "        params, opt_state, loss = train_step(params, opt_state, rng, node_fts_batch, edge_fts_batch, graph_fts_batch, adj_mat, hidden_batch, y_batch)\n",
    "        \n",
    "        if batch_idx % 10 == 0:\n",
    "            print(f'Epoch {epoch}, Batch {batch_idx}, Loss: {loss}')"
   ]
  }
 ],
 "metadata": {
  "kernelspec": {
   "display_name": "tactic_ai",
   "language": "python",
   "name": "python3"
  },
  "language_info": {
   "codemirror_mode": {
    "name": "ipython",
    "version": 3
   },
   "file_extension": ".py",
   "mimetype": "text/x-python",
   "name": "python",
   "nbconvert_exporter": "python",
   "pygments_lexer": "ipython3",
   "version": "3.12.3"
  }
 },
 "nbformat": 4,
 "nbformat_minor": 2
}
